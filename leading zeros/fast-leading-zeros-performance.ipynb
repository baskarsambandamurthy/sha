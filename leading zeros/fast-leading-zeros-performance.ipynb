{
 "cells": [
  {
   "cell_type": "code",
   "execution_count": 1,
   "id": "7578d60b",
   "metadata": {
    "_cell_guid": "b1076dfc-b9ad-4769-8c92-a6c4dae69d19",
    "_uuid": "8f2839f25d086af736a60e9eeb907d3b93b6e0e5",
    "execution": {
     "iopub.execute_input": "2024-10-01T12:19:03.945884Z",
     "iopub.status.busy": "2024-10-01T12:19:03.945425Z",
     "iopub.status.idle": "2024-10-01T12:19:03.958188Z",
     "shell.execute_reply": "2024-10-01T12:19:03.957056Z"
    },
    "papermill": {
     "duration": 0.024223,
     "end_time": "2024-10-01T12:19:03.960745",
     "exception": false,
     "start_time": "2024-10-01T12:19:03.936522",
     "status": "completed"
    },
    "tags": []
   },
   "outputs": [],
   "source": [
    "import hashlib\n",
    "import random\n",
    "import string"
   ]
  },
  {
   "cell_type": "code",
   "execution_count": 2,
   "id": "510ebd27",
   "metadata": {
    "execution": {
     "iopub.execute_input": "2024-10-01T12:19:03.976420Z",
     "iopub.status.busy": "2024-10-01T12:19:03.975933Z",
     "iopub.status.idle": "2024-10-01T12:19:20.332187Z",
     "shell.execute_reply": "2024-10-01T12:19:20.330412Z"
    },
    "papermill": {
     "duration": 16.367299,
     "end_time": "2024-10-01T12:19:20.335283",
     "exception": false,
     "start_time": "2024-10-01T12:19:03.967984",
     "status": "completed"
    },
    "tags": []
   },
   "outputs": [
    {
     "name": "stdout",
     "output_type": "stream",
     "text": [
      "Requirement already satisfied: numpy in /opt/conda/lib/python3.10/site-packages (1.26.4)\r\n"
     ]
    }
   ],
   "source": [
    "#Install numpy array library\n",
    "!pip install numpy"
   ]
  },
  {
   "cell_type": "code",
   "execution_count": 3,
   "id": "b9a728cb",
   "metadata": {
    "execution": {
     "iopub.execute_input": "2024-10-01T12:19:20.351473Z",
     "iopub.status.busy": "2024-10-01T12:19:20.350855Z",
     "iopub.status.idle": "2024-10-01T12:19:20.357370Z",
     "shell.execute_reply": "2024-10-01T12:19:20.355952Z"
    },
    "papermill": {
     "duration": 0.018031,
     "end_time": "2024-10-01T12:19:20.360136",
     "exception": false,
     "start_time": "2024-10-01T12:19:20.342105",
     "status": "completed"
    },
    "tags": []
   },
   "outputs": [],
   "source": [
    "#for performance test, time library will be used to compute duration\n",
    "import time\n",
    "#for performance test, numpy library will be used to store multiple experiment output as arrays\n",
    "import numpy as np"
   ]
  },
  {
   "cell_type": "markdown",
   "id": "e7a4b82d",
   "metadata": {
    "papermill": {
     "duration": 0.006351,
     "end_time": "2024-10-01T12:19:20.373375",
     "exception": false,
     "start_time": "2024-10-01T12:19:20.367024",
     "status": "completed"
    },
    "tags": []
   },
   "source": [
    "Default Method"
   ]
  },
  {
   "cell_type": "code",
   "execution_count": 4,
   "id": "56403a2f",
   "metadata": {
    "execution": {
     "iopub.execute_input": "2024-10-01T12:19:20.388710Z",
     "iopub.status.busy": "2024-10-01T12:19:20.388200Z",
     "iopub.status.idle": "2024-10-01T12:19:20.396327Z",
     "shell.execute_reply": "2024-10-01T12:19:20.395051Z"
    },
    "papermill": {
     "duration": 0.019145,
     "end_time": "2024-10-01T12:19:20.399151",
     "exception": false,
     "start_time": "2024-10-01T12:19:20.380006",
     "status": "completed"
    },
    "tags": []
   },
   "outputs": [],
   "source": [
    "def find_leading_zeros_default(size):\n",
    "    iterations=0\n",
    "    pattern = \"0\"*size\n",
    "    str_hex_chars=string.digits+\"abcdef\"\n",
    "    while True:\n",
    "        input_str = ''.join(random.choices(str_hex_chars,k=64))\n",
    "        hash_str=hashlib.sha256(input_str.encode()).hexdigest()\n",
    "        iterations+=1\n",
    "        if hash_str[0:size]==pattern: \n",
    "            break\n",
    "\n",
    "    return input_str,hash_str,iterations"
   ]
  },
  {
   "cell_type": "markdown",
   "id": "3d2251db",
   "metadata": {
    "papermill": {
     "duration": 0.006475,
     "end_time": "2024-10-01T12:19:20.412463",
     "exception": false,
     "start_time": "2024-10-01T12:19:20.405988",
     "status": "completed"
    },
    "tags": []
   },
   "source": [
    "Fast Method"
   ]
  },
  {
   "cell_type": "code",
   "execution_count": 5,
   "id": "36a32beb",
   "metadata": {
    "execution": {
     "iopub.execute_input": "2024-10-01T12:19:20.428783Z",
     "iopub.status.busy": "2024-10-01T12:19:20.428305Z",
     "iopub.status.idle": "2024-10-01T12:19:20.435847Z",
     "shell.execute_reply": "2024-10-01T12:19:20.434664Z"
    },
    "papermill": {
     "duration": 0.019349,
     "end_time": "2024-10-01T12:19:20.438480",
     "exception": false,
     "start_time": "2024-10-01T12:19:20.419131",
     "status": "completed"
    },
    "tags": []
   },
   "outputs": [],
   "source": [
    "def find_leading_zeros_fast(size):\n",
    "    iterations=0\n",
    "    pattern = \"0\"*size\n",
    "    input_str = ''.join(random.choices(string.digits+\"abcdef\",k=64))\n",
    "\n",
    "    while True:\n",
    "        hash_str=hashlib.sha256(input_str.encode()).hexdigest()\n",
    "        iterations+=1\n",
    "        if hash_str[0:size]==pattern: \n",
    "            break\n",
    "        input_str= hash_str\n",
    "\n",
    "    return input_str,hash_str,iterations"
   ]
  },
  {
   "cell_type": "markdown",
   "id": "d2653a74",
   "metadata": {
    "papermill": {
     "duration": 0.006373,
     "end_time": "2024-10-01T12:19:20.451468",
     "exception": false,
     "start_time": "2024-10-01T12:19:20.445095",
     "status": "completed"
    },
    "tags": []
   },
   "source": [
    "#### Performance Test"
   ]
  },
  {
   "cell_type": "code",
   "execution_count": 6,
   "id": "26864eea",
   "metadata": {
    "execution": {
     "iopub.execute_input": "2024-10-01T12:19:20.466659Z",
     "iopub.status.busy": "2024-10-01T12:19:20.466201Z",
     "iopub.status.idle": "2024-10-01T12:19:20.478041Z",
     "shell.execute_reply": "2024-10-01T12:19:20.476439Z"
    },
    "papermill": {
     "duration": 0.022932,
     "end_time": "2024-10-01T12:19:20.480976",
     "exception": false,
     "start_time": "2024-10-01T12:19:20.458044",
     "status": "completed"
    },
    "tags": []
   },
   "outputs": [],
   "source": [
    "#It executes the default or fast method of leading zeros \n",
    "#number of times mentioned by argument \"exp_count\" \n",
    "#with number of zeros mentioned by argument \"size\"\n",
    "#\"is_fast_method\" =True means Fast method is called, otherwise \"Default\" method\n",
    "#It returns duration array and iterations array containing data for multiple experiments \n",
    "def perf_test(exp_count,is_fast_method,size,is_print_detail=False):\n",
    "    iterations_arr=np.zeros(exp_count,dtype=int)\n",
    "    duration_arr=np.zeros(exp_count,dtype=int)\n",
    "\n",
    "    for i in range(exp_count):\n",
    "        start = time.time()\n",
    "        #call default method or fast method based on the input argument\n",
    "        if is_fast_method:\n",
    "            matched_str,hash_str,iterations=find_leading_zeros_fast(size)\n",
    "        else:\n",
    "            matched_str,hash_str,iterations=find_leading_zeros_default(size)\n",
    "        end = time.time()\n",
    "        #note that time() method returns in seconds\n",
    "        #so need to convert to milliseconds by multiplying with 1000\n",
    "        duration = int((end-start)*1000)\n",
    "\n",
    "        iterations_arr[i]=iterations\n",
    "        duration_arr[i]=duration\n",
    "        if is_print_detail:\n",
    "            print(f\"\\n ************** i={i} ******************\")\n",
    "            print(\"Matched String : \",matched_str)\n",
    "            print(\"Hash:            \",hash_str)\n",
    "            print('Number of iterations to match:' ,iterations)\n",
    "            print(f\"Execution Time (in ms)      : {duration}\")\n",
    "\n",
    "    print(\"\\n------------------------------------------\")\n",
    "    print(\"Experiment Results\")\n",
    "    print(\"------------------------------------------\")\n",
    "    print(\"Iterations:\")\n",
    "    print(iterations_arr)\n",
    "    print(\"Durations (in ms):\")\n",
    "    print(duration_arr) \n",
    "    \n",
    "    return iterations_arr,duration_arr"
   ]
  },
  {
   "cell_type": "code",
   "execution_count": 7,
   "id": "d81a6a7a",
   "metadata": {
    "execution": {
     "iopub.execute_input": "2024-10-01T12:19:20.498326Z",
     "iopub.status.busy": "2024-10-01T12:19:20.497481Z",
     "iopub.status.idle": "2024-10-01T12:19:20.503158Z",
     "shell.execute_reply": "2024-10-01T12:19:20.501892Z"
    },
    "papermill": {
     "duration": 0.016825,
     "end_time": "2024-10-01T12:19:20.505913",
     "exception": false,
     "start_time": "2024-10-01T12:19:20.489088",
     "status": "completed"
    },
    "tags": []
   },
   "outputs": [],
   "source": [
    "#number of zeros and number of experiments (no of tries) are specified below\n",
    "perf_size=4\n",
    "exp_count=50"
   ]
  },
  {
   "cell_type": "markdown",
   "id": "02700da0",
   "metadata": {
    "papermill": {
     "duration": 0.006252,
     "end_time": "2024-10-01T12:19:20.518902",
     "exception": false,
     "start_time": "2024-10-01T12:19:20.512650",
     "status": "completed"
    },
    "tags": []
   },
   "source": [
    "#### Performance test of Default Method"
   ]
  },
  {
   "cell_type": "code",
   "execution_count": 8,
   "id": "0e03f834",
   "metadata": {
    "execution": {
     "iopub.execute_input": "2024-10-01T12:19:20.534139Z",
     "iopub.status.busy": "2024-10-01T12:19:20.533724Z",
     "iopub.status.idle": "2024-10-01T12:20:27.864446Z",
     "shell.execute_reply": "2024-10-01T12:20:27.863169Z"
    },
    "papermill": {
     "duration": 67.34833,
     "end_time": "2024-10-01T12:20:27.873951",
     "exception": false,
     "start_time": "2024-10-01T12:19:20.525621",
     "status": "completed"
    },
    "tags": []
   },
   "outputs": [
    {
     "name": "stdout",
     "output_type": "stream",
     "text": [
      "\n",
      "------------------------------------------\n",
      "Experiment Results\n",
      "------------------------------------------\n",
      "Iterations:\n",
      "[160221  78686  33120   6689  33767  12659   4335  28340  35841  24853\n",
      "  33456   2120  24902  89409 129583  96190  17946   3299  46020  16685\n",
      " 104113  53520  51709   3864 223224  33898    846  41149  40177  23287\n",
      "   3334   1388  50805 215845  67422  83746   8270  46439   4927  48887\n",
      "  47899  28743  63401  43712  74044   7854  15402  85065 204660  93413]\n",
      "Durations (in ms):\n",
      "[4078 1995  845  194  856  335  109  765  912  627  849   53  630 2261\n",
      " 3308 2434  453   83 1170  421 2634 1349 1325   97 5641  858   21 1039\n",
      " 1013  593   96   48 1286 5524 1706 2138  209 1177  123 1234 1210  724\n",
      " 1607 1105 1880  218  386 2143 5151 2384]\n"
     ]
    }
   ],
   "source": [
    "iterations_def_arr,duration_def_arr=perf_test(exp_count,False,perf_size,is_print_detail=False)\n",
    "#To view sha hash detail of each experiment, set the flag is_print_detail to True"
   ]
  },
  {
   "cell_type": "markdown",
   "id": "08bcb9ba",
   "metadata": {
    "papermill": {
     "duration": 0.006459,
     "end_time": "2024-10-01T12:20:27.887276",
     "exception": false,
     "start_time": "2024-10-01T12:20:27.880817",
     "status": "completed"
    },
    "tags": []
   },
   "source": [
    "#### Performance test of Fast Method"
   ]
  },
  {
   "cell_type": "code",
   "execution_count": 9,
   "id": "8242b61f",
   "metadata": {
    "execution": {
     "iopub.execute_input": "2024-10-01T12:20:27.903181Z",
     "iopub.status.busy": "2024-10-01T12:20:27.902065Z",
     "iopub.status.idle": "2024-10-01T12:20:33.549468Z",
     "shell.execute_reply": "2024-10-01T12:20:33.548255Z"
    },
    "papermill": {
     "duration": 5.658711,
     "end_time": "2024-10-01T12:20:33.552616",
     "exception": false,
     "start_time": "2024-10-01T12:20:27.893905",
     "status": "completed"
    },
    "tags": []
   },
   "outputs": [
    {
     "name": "stdout",
     "output_type": "stream",
     "text": [
      "\n",
      "------------------------------------------\n",
      "Experiment Results\n",
      "------------------------------------------\n",
      "Iterations:\n",
      "[ 59552  54801  33968  63883  89080  36912  53045  77966  27574 157214\n",
      "  96895  42226  40898  26151   1288 147846  26146 177247  65783  98206\n",
      "  60701  45522 150020   4269  20749  18579  50691   5039   3697  23485\n",
      "  20144 112183 159481  35815  59297  41649  11481  95018  11677  56160\n",
      "  13754  57914  97878  77005    144 101801  31534  12198   1165  86041]\n",
      "Durations (in ms):\n",
      "[119 107  65 126 170  72 105 151  53 308 186  82  80  51   2 291  50 348\n",
      " 127 193 120  87 295   8  40  35  98   9   7  45  39 220 309  68 114  78\n",
      "  22 203  37 143  27 132 203 147   0 194  60  23   2 165]\n"
     ]
    }
   ],
   "source": [
    "iterations_fast_arr,duration_fast_arr=perf_test(exp_count,True,perf_size,is_print_detail=False)\n",
    "#To view sha hash detail of each experiment, set the flag is_print_detail to True"
   ]
  },
  {
   "cell_type": "markdown",
   "id": "c9d65a38",
   "metadata": {
    "papermill": {
     "duration": 0.008724,
     "end_time": "2024-10-01T12:20:33.571231",
     "exception": false,
     "start_time": "2024-10-01T12:20:33.562507",
     "status": "completed"
    },
    "tags": []
   },
   "source": [
    "#### Display Chart to depict performance comparison between Default and Fast Method"
   ]
  },
  {
   "cell_type": "code",
   "execution_count": 10,
   "id": "6a13f15f",
   "metadata": {
    "execution": {
     "iopub.execute_input": "2024-10-01T12:20:33.587831Z",
     "iopub.status.busy": "2024-10-01T12:20:33.587267Z",
     "iopub.status.idle": "2024-10-01T12:20:47.705016Z",
     "shell.execute_reply": "2024-10-01T12:20:47.703450Z"
    },
    "papermill": {
     "duration": 14.129718,
     "end_time": "2024-10-01T12:20:47.708219",
     "exception": false,
     "start_time": "2024-10-01T12:20:33.578501",
     "status": "completed"
    },
    "tags": []
   },
   "outputs": [
    {
     "name": "stdout",
     "output_type": "stream",
     "text": [
      "Requirement already satisfied: plotly in /opt/conda/lib/python3.10/site-packages (5.22.0)\r\n",
      "Requirement already satisfied: tenacity>=6.2.0 in /opt/conda/lib/python3.10/site-packages (from plotly) (8.3.0)\r\n",
      "Requirement already satisfied: packaging in /opt/conda/lib/python3.10/site-packages (from plotly) (21.3)\r\n",
      "Requirement already satisfied: pyparsing!=3.0.5,>=2.0.2 in /opt/conda/lib/python3.10/site-packages (from packaging->plotly) (3.1.2)\r\n"
     ]
    }
   ],
   "source": [
    "#Install plotly chart library\n",
    "!pip install plotly"
   ]
  },
  {
   "cell_type": "code",
   "execution_count": 11,
   "id": "a3ef1cf1",
   "metadata": {
    "execution": {
     "iopub.execute_input": "2024-10-01T12:20:47.724416Z",
     "iopub.status.busy": "2024-10-01T12:20:47.723923Z",
     "iopub.status.idle": "2024-10-01T12:20:47.743277Z",
     "shell.execute_reply": "2024-10-01T12:20:47.742221Z"
    },
    "papermill": {
     "duration": 0.030868,
     "end_time": "2024-10-01T12:20:47.746126",
     "exception": false,
     "start_time": "2024-10-01T12:20:47.715258",
     "status": "completed"
    },
    "tags": []
   },
   "outputs": [],
   "source": [
    "import plotly.graph_objects as go"
   ]
  },
  {
   "cell_type": "code",
   "execution_count": 12,
   "id": "018676d4",
   "metadata": {
    "execution": {
     "iopub.execute_input": "2024-10-01T12:20:47.761949Z",
     "iopub.status.busy": "2024-10-01T12:20:47.761502Z",
     "iopub.status.idle": "2024-10-01T12:20:48.058514Z",
     "shell.execute_reply": "2024-10-01T12:20:48.057272Z"
    },
    "papermill": {
     "duration": 0.308299,
     "end_time": "2024-10-01T12:20:48.061428",
     "exception": false,
     "start_time": "2024-10-01T12:20:47.753129",
     "status": "completed"
    },
    "tags": []
   },
   "outputs": [],
   "source": [
    "import plotly.io as pio\n",
    "pio.renderers.default = 'iframe'"
   ]
  },
  {
   "cell_type": "code",
   "execution_count": 13,
   "id": "2d51cffb",
   "metadata": {
    "execution": {
     "iopub.execute_input": "2024-10-01T12:20:48.078127Z",
     "iopub.status.busy": "2024-10-01T12:20:48.077096Z",
     "iopub.status.idle": "2024-10-01T12:20:48.483094Z",
     "shell.execute_reply": "2024-10-01T12:20:48.481803Z"
    },
    "papermill": {
     "duration": 0.417574,
     "end_time": "2024-10-01T12:20:48.486041",
     "exception": false,
     "start_time": "2024-10-01T12:20:48.068467",
     "status": "completed"
    },
    "tags": []
   },
   "outputs": [
    {
     "data": {
      "text/html": [
       "<iframe\n",
       "    scrolling=\"no\"\n",
       "    width=\"100%\"\n",
       "    height=\"545px\"\n",
       "    src=\"iframe_figures/figure_13.html\"\n",
       "    frameborder=\"0\"\n",
       "    allowfullscreen\n",
       "></iframe>\n"
      ]
     },
     "metadata": {},
     "output_type": "display_data"
    }
   ],
   "source": [
    "fig = go.Figure()\n",
    "\n",
    "#add scatter plot for default method\n",
    "#iterations_def_arr as x-axis data and\n",
    "#duration_def_arr as y-axis data\n",
    "fig.add_trace(go.Scatter(name=\"default\", \n",
    "                            x=iterations_def_arr, \n",
    "                            y=duration_def_arr,\n",
    "        fill=None,\n",
    "        mode='markers',\n",
    "        marker={'size':8,\"symbol\":\"circle\"},\n",
    "        line_color='red',\n",
    "      hovertemplate =\n",
    "    '<i>Iterations</i>:    %{x:6d}'+\n",
    "    '<br><b>Time in ms</b>:    %{y:.0f}<br>',))\n",
    "\n",
    "#add scatter plot for fast method\n",
    "#iterations_fast_arr as x-axis data and\n",
    "#duration_fast_arr as y-axis data\n",
    "fig.add_trace(go.Scatter(name=\"fast\", \n",
    "                            x=iterations_fast_arr, \n",
    "                            y=duration_fast_arr, \n",
    "        fill=None,\n",
    "        mode='markers',\n",
    "        marker={'size':8,\"symbol\":\"diamond\"},\n",
    "        line_color='yellow',\n",
    "    hovertemplate =\n",
    "    '<i>Iterations</i>:%{x:6d}'+\n",
    "    '<br><b>Time in ms</b>: %{y:.0f}<br>',))\n",
    "    \n",
    "\n",
    "    \n",
    "fig.update_layout({\n",
    "        'autosize':False,\n",
    "        'plot_bgcolor':'rgba(2,0,0,5)',\n",
    "        'paper_bgcolor':'rgba(2,0,0,5)',\n",
    "        'font_color':\"white\",\n",
    "        'title': f'Performance Comparison (no of zeros={perf_size})',\n",
    "        'yaxis_title': 'Time (in milliseconds)',\n",
    "        'xaxis_title': 'Number of Iterations',\n",
    "        'xaxis':{'showgrid':False},\n",
    "        })\n",
    "    \n",
    "fig.update_yaxes(automargin = True, gridcolor = \"gray\")\n",
    "fig.update_xaxes(automargin = True, gridcolor = \"gray\",showgrid=False)\n",
    "   \n",
    "fig.show()"
   ]
  }
 ],
 "metadata": {
  "kaggle": {
   "accelerator": "none",
   "dataSources": [],
   "dockerImageVersionId": 30775,
   "isGpuEnabled": false,
   "isInternetEnabled": true,
   "language": "python",
   "sourceType": "notebook"
  },
  "kernelspec": {
   "display_name": "Python 3",
   "language": "python",
   "name": "python3"
  },
  "language_info": {
   "codemirror_mode": {
    "name": "ipython",
    "version": 3
   },
   "file_extension": ".py",
   "mimetype": "text/x-python",
   "name": "python",
   "nbconvert_exporter": "python",
   "pygments_lexer": "ipython3",
   "version": "3.10.14"
  },
  "papermill": {
   "default_parameters": {},
   "duration": 108.684424,
   "end_time": "2024-10-01T12:20:49.017215",
   "environment_variables": {},
   "exception": null,
   "input_path": "__notebook__.ipynb",
   "output_path": "__notebook__.ipynb",
   "parameters": {},
   "start_time": "2024-10-01T12:19:00.332791",
   "version": "2.6.0"
  }
 },
 "nbformat": 4,
 "nbformat_minor": 5
}
